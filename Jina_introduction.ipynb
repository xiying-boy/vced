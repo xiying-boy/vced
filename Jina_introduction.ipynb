{
 "cells": [
  {
   "cell_type": "markdown",
   "metadata": {
    "pycharm": {
     "name": "#%% md\n"
    }
   },
   "source": [
    "# Jina相关内容介绍\n",
    "## 1. Jina AI\n",
    "Jina AI是一个基于云原生和人工智能的开源神经搜索框架，它允许任何人在云上构建跨模式和多模式应用程序。\n",
    "###  1.1 特点\n",
    "- 微服务\n",
    "\n",
    "  保证每个步骤以分布形式独立运行\n",
    "\n",
    "\n",
    "- 编排系统\n",
    "\n",
    "  负责协调流水线的持续运行和弹性伸缩\n",
    "\n",
    "\n",
    "- 容器化技术\n",
    "\n",
    "  保证每个步骤都有独立的运行环境\n",
    "\n",
    "\n",
    "- 可观测\n",
    "\n",
    "  及时获取故障原因\n",
    "### 1.2 全家桶\n",
    "![](../../download/vced-jina-introduction/introduction/pic/全家桶.png)\n",
    "- **DocArray** — **非结构化数据**的数据结构\n",
    "- **Jina** — 用于任何类型数据的云原生**神经搜索框架**\n",
    "- **Hub** — 分享和发现**可重复使用的神经搜索应用程序构建块**的市场\n",
    "- **Finetuner** — 对任何深度神经网络进行**微调**，以便在神经搜索任务中优化嵌入\n",
    "- **NOW** — **图像搜索**的无代码解决方案\n",
    "- **CLIP-as-service** — 基于CLIP的图像和文本的**跨模态编码服务**\n",
    "- **JCloud** — 神经搜索系统的**云端部署及管理平台**\n",
    "\n",
    "本次项目中重点介绍Jina和DocArray，其余模块，有兴趣的同学可自行去官网学习。\n",
    "\n",
    "## 2 Jina\n",
    "\n",
    "### 2.1 Jina的定义\n",
    "\n",
    "Jina 是一个基于云原生的深度学习搜索框架，赋能开发者打造可靠的云原生多模态、跨模态的搜索系统。\n",
    "\n",
    "### 2.2 Jina的基本概念\n",
    "\n",
    "Document、Executor 和 Flow 是 Jina 的三个基本概念。\n",
    "- Document 是基本的数据类型，会在 DocArray 中细说。\n",
    "- Executor 可以理解为一个 Python 类，代表了 Jina 中的算法单元，比如把图像编码成向量、对结果进行排序等算法等都可以用 Executor 来表述。\n",
    "- Flow 将多个 Executor 连接起来，可以协调成流水线(pipeline)。也可以理解成一个高阶的任务。比如索引(index)、搜索(search)、训练(train)，都属于一个 Flow。\n",
    "- ### 2.3 Jina的安装\n",
    "\n",
    "​    Jina需要python3.7及以上版本，支持多渠道安装，windows，linux和mac均适用。\n",
    "```python\n",
    "# via pypi\n",
    "pip install jina\n",
    "\n",
    "# via conda\n",
    "conda install jina -c conda-forge\n",
    "\n",
    "# via docker\n",
    "docker pull jinaai/jina:latest\n",
    "```\n",
    "### 2.4 快速上手\n",
    "我们通过下面的例子来理解Jina的基本概念：\n",
    "#### 2.4.1 Document 的创建\n",
    "一个Document 只可以拥有一种类型的文本属性。输入内容，可以自动归类为text,buffer,blob或uri中的一种。 "
   ]
  },
  {
   "cell_type": "code",
   "execution_count": null,
   "metadata": {
    "pycharm": {
     "name": "#%%\n"
    }
   },
   "outputs": [],
   "source": [
    "from jina import Document\n",
    "import numpy\n",
    "\n",
    "d1 = Document(text='hello')\n",
    "d2 = Document(tensor=numpy.array([1, 2, 3]))\n",
    "d3 = Document(\n",
    "    uri='https://jina.ai',\n",
    "    mime_type='text/plain',\n",
    "    granularity=1,\n",
    "    adjacency=3,\n",
    "    tags={'foo': 'bar'},\n",
    ")\n",
    "print(d1.text,\"\\r\\n\",d1,\"\\r\\n\")\n",
    "print(d2.tensor,\"\\r\\n\",d2,\"\\r\\n\")\n",
    "print(d3.uri,\"\\r\\n\",d3)\n"
   ]
  },
  {
   "cell_type": "markdown",
   "metadata": {},
   "source": [
    "#### 2.4.2 Executor的创建\n",
    "Executor是Jina中处理Document的基本单元,可以实现非常丰富多样的功能，包括数据预处理、多模态数据向量化、数据索引等，并且支持Tensorflow, Pytorch, Pytorch Lightning, Fastai, Mindspore, PaddlePaddle, Scikit-learn等多种机器学习框架。\n",
    "协议，转载请附上原文出处链接及本声明。"
   ]
  },
  {
   "cell_type": "code",
   "execution_count": null,
   "metadata": {
    "pycharm": {
     "is_executing": true,
     "name": "#%%\n"
    }
   },
   "outputs": [],
   "source": [
    "# 导入document、executor 和 Flow 这三个基本概念，以及requests装饰器\n",
    "from jina import DocumentArray, Executor, Flow, requests\n",
    "\n",
    "# 编写MyExec类，类中定义了异步函数add_text\n",
    "# 该函数从网络请求接收DocumentArray，并在其后面附加\"hello, world!\"\n",
    "class MyExec(Executor):\n",
    "    @requests  # 用于指定路由\n",
    "    async def add_text(self, docs: DocumentArray, **kwargs):\n",
    "        for d in docs:\n",
    "            d.text += 'hello, world!'\n",
    "\n",
    "# 定义Flow，该Flow将两个Executor放到了一个链中。\n",
    "# 将Flow赋值给f\n",
    "f = Flow().add(uses=MyExec).add(uses=MyExec)\n",
    "\n",
    "with f:  # 使用 with f 打开Flow\n",
    "    r = f.post('/', DocumentArray.empty(2))  # 向流发送一个空的DocumentArray\n",
    "    print(r.texts)"
   ]
  },
  {
   "cell_type": "markdown",
   "metadata": {
    "pycharm": {
     "name": "#%% md\n"
    }
   },
   "source": [
    "你也可以将上述文件内容拆开，拆分成python执行文件和yaml文件。拆分后，能提升代码的可扩展性和并发性。"
   ]
  },
  {
   "cell_type": "code",
   "execution_count": null,
   "metadata": {
    "pycharm": {
     "name": "#%%\n"
    }
   },
   "outputs": [],
   "source": [
    "#toy.yml\n",
    "jtype: Flow\n",
    "with f:\n",
    "  port: 51000\n",
    "  protocol: grpc\n",
    "executors:\n",
    "- uses: MyExec\n",
    "  name: foo\n",
    "  py_modules:\n",
    "    - executor.py\n",
    "- uses: MyExec\n",
    "  name: bar\n",
    "  py_modules:\n",
    "    - executor.py\n",
    "    \n",
    "# executor.py\n",
    "from jina import DocumentArray, Executor, requests\n",
    "\n",
    "\n",
    "class MyExec(Executor):\n",
    "    @requests\n",
    "    async def add_text(self, docs: DocumentArray, **kwargs):\n",
    "        for d in docs:\n",
    "            d.text += 'hello, world!'"
   ]
  },
  {
   "cell_type": "markdown",
   "metadata": {
    "pycharm": {
     "name": "#%% md\n"
    }
   },
   "source": [
    "运行以下命令启动服务："
   ]
  },
  {
   "cell_type": "code",
   "execution_count": null,
   "metadata": {
    "pycharm": {
     "name": "#%%\n"
    }
   },
   "outputs": [],
   "source": [
    "'''shell \n",
    "jina flow --uses toy.yml\n",
    "'''"
   ]
  },
  {
   "cell_type": "markdown",
   "metadata": {
    "pycharm": {
     "name": "#%% md\n"
    }
   },
   "source": [
    "启动成功后，可以使用客户端进行查询："
   ]
  },
  {
   "cell_type": "code",
   "execution_count": null,
   "metadata": {
    "pycharm": {
     "name": "#%%\n"
    }
   },
   "outputs": [],
   "source": [
    "from jina import Client, Document\n",
    "\n",
    "c = Client(host='grpc://0.0.0.0:51000')  # 如果运行提示失败，可尝试使用localhost\n",
    "c.post('/', Document())"
   ]
  },
  {
   "cell_type": "markdown",
   "metadata": {
    "pycharm": {
     "name": "#%% md\n"
    }
   },
   "source": [
    "将 Executor 和 Flow 分开有以下优点：\n",
    "\n",
    "  - 服务器上的数据流是非阻塞和异步的。当 Executor 处于空闲状态时，会立即处理新的请求。\n",
    "  - 必要时会自动添加负载平衡，以确保最大吞吐量。"
   ]
  },
  {
   "cell_type": "markdown",
   "metadata": {
    "pycharm": {
     "name": "#%% md\n"
    }
   },
   "source": [
    "## 3 DocArray\n",
    "\n",
    "### 3.1 DocArray的定义\n",
    "DocArray 是用于存储非结构化数据的数据结构工具包，是本次我们做多模态应用的基础。通过这个小而精的入口，能友好地带你走进多模态/跨模态的世界。\n",
    "\n",
    "DocArray 的亮点在于 Hierarchy + Nested。DocArray 有不同的层级结构，分层存储，第一层可以是一个整体的视频，第二层是该视频的不同镜头，第三层可以是镜头的某一帧。也可以是其他模态，比如顶层存储文章，第二层存储句子，第三层存储词......因此可以针对某个词搜索，也可以针对句子去搜索，这样搜索的颗粒度，结构的多样性和结果的丰富度，都比传统文本检索好很多。\n",
    "\n",
    "DocArray 的设计对于 Python 用户来说非常直观，不需要学习新的语法。它融合了Json、Pandas、Numpy、Protobuf 的优点，更适用于数据科学家和深度学习工程师。"
   ]
  },
  {
   "cell_type": "markdown",
   "metadata": {
    "pycharm": {
     "name": "#%% md\n"
    }
   },
   "source": [
    "### 3.2 DocArray的组成\n",
    "DocArray由三个简单的概念组成：\n",
    "\n",
    "- Document：一种表示嵌套非结构化数据的数据结构，是 DocArray 的基本数据类型。无论是处理文本、图像、视频、音频、3d、表格 或它们的嵌套或组合，都可以用 Document 来表示它们，从而使得各类数据的结构都非常规整，方便后续处理。\n",
    "- DocumentArray：用于高效访问、处理和理解多个文档的容器，可以保存多个 Document 的列表。\n",
    "- Dataclass：用于直观表示多模式数据的高级API。\n",
    "### 3.3 DocArray的安装\n",
    "3.x版本的Jina已经包含了DocArray，如果你用的是3.x的Jina，可以跳过此步骤。如果你不清楚自己安装的版本号，可以在命令行里输入`jina -vf`来查看Jina版本。\n",
    "\n",
    "如果你安装的是2.x版本的Jina，需要单独安装DocArray包。DocArray需要python3.7及以上版本，支持多渠道安装，windows，linux和mac均适用。此外，DocArray需要依赖numpy包，安装前，需先安装numpy。"
   ]
  },
  {
   "cell_type": "code",
   "execution_count": null,
   "metadata": {
    "pycharm": {
     "name": "#%%\n"
    }
   },
   "outputs": [],
   "source": [
    "'''python\n",
    "# via pypi\n",
    "pip install docarray\n",
    "\n",
    "# via conda\n",
    "conda install -c conda-forge docarray\n",
    "'''"
   ]
  },
  {
   "cell_type": "markdown",
   "metadata": {
    "pycharm": {
     "name": "#%% md\n"
    }
   },
   "source": [
    "### 3.4 快速上手\n",
    "由于本项目做的是视频搜索剪辑，这里重点介绍**文本、图像和视频**。"
   ]
  },
  {
   "cell_type": "code",
   "execution_count": 1,
   "metadata": {
    "pycharm": {
     "is_executing": true,
     "name": "#%%\n"
    }
   },
   "outputs": [
    {
     "data": {
      "text/plain": [
       "'0.14.0'"
      ]
     },
     "execution_count": 1,
     "metadata": {},
     "output_type": "execute_result"
    }
   ],
   "source": [
    "import docarray\n",
    "# 查看docarray版本\n",
    "docarray.__version__   # 如果版本号小于0.1.0，代表未成功安装docarray，程序使用的仍是Jina2.x的旧版本docarray。"
   ]
  },
  {
   "cell_type": "markdown",
   "metadata": {
    "pycharm": {
     "name": "#%% md\n"
    }
   },
   "source": [
    "#### 3.4.1 文本\n",
    "##### 3.4.1.1 创建文本"
   ]
  },
  {
   "cell_type": "code",
   "execution_count": 2,
   "metadata": {
    "pycharm": {
     "name": "#%%\n"
    }
   },
   "outputs": [
    {
     "name": "stdout",
     "output_type": "stream",
     "text": [
      "hello, world.\n",
      "<TITLE>Read Me</TITLE>\n",
      "<NEXTID 7>\n",
      "<H1>WorldWideWeb distributed code</H1>See the CERN <A NAME=2 HREF=Copyright.html>copyright</A> .  This is the README file which you get when\n",
      "you unwrap one of our tar files. These files contain information about\n",
      "hypertext, hypertext systems, and the WorldWideWeb project. If you\n",
      "have taken this with a .tar file, you will have only a subset of the\n",
      "files.<P>\n",
      "THIS FILE IS A VERY ABRIDGED VERSION OF THE INFORMATION AVAILABLE\n",
      "ON THE WEB.   IF IN DOUBT, READ THE WEB DIRECTLY. If you have not\n",
      "got any browser installed, do this by telnet to info.cern.ch (no username\n",
      "or password).\n",
      "<H2>Archive Directory structure</H2>Under /pub/www, besides this README file, you'll find bin, src and\n",
      "doc directories.  The main archives are as follows:\n",
      "<DL>\n",
      "<DT><A NAME=4>src/WWWLibrary_v.vv.tar.Z</A>\n",
      "<DD> The W3  Library. All source, and Makefiles\n",
      "for selected systems.\n",
      "<DT>src/WWWLineMode_v.vv.tar.Z\n",
      "<DD> The Line mode browser - all source, and\n",
      "Makefiles for selected systems. Requires the <A NAME=5 HREF=#4>Library</A> .\n",
      "<DT>src/WWW/LineModeDefaults_v.vv.tar.Z\n",
      "<DD> The on-line doucmnetation for\n",
      "the line mode browser, which you may still want if you get the program\n",
      "as binary. A subset of the full source above.\n",
      "<DT>src/WWWNextStepEditor.tar.Z\n",
      "<DD> The Hypertext Browser/editor for the NeXT\n",
      "-- source and binary.\n",
      "<DT>src/WWWDaemon_v.vv.tar.Z\n",
      "<DD> The HTTP daemon, and WWW-WAIS  gateway programs.\n",
      "Source.\n",
      "<DT>doc/WWWBook.tar.Z\n",
      "<DD> A snapshot of our internal documentation - we prefer\n",
      "you to access this on line -- see warnings below.\n",
      "<DT>bin/xxx/bbbb\n",
      "<DD> Executable binaries of program bbbb for system xxx. Check\n",
      "what's there before you bother compiling. (Note HP is called \"snake\")\n",
      "</DL>\n",
      "\n",
      "<H2>Generated Directory structure</H2>The tar files are all designed to be unwrapped in the same (this)\n",
      "directory. They create different parts of a common directory tree\n",
      "under that directory. There may be some duplication. They also generate\n",
      "a few files in this directory: README.*, Copyright.*, and some installation\n",
      "instructions (.txt).\n",
      "<H2>NeXTStep Browser/Editor</H2>The browser for the NeXT is those files contained in the application\n",
      "directory WWW/Next/Implementation/WorldWideWeb.app and is compiled.Whe\n",
      "you install the app, you may want to configure the default page, WorldWideWeb.app/default.html.\n",
      "These must point to some useful information! You should keep it up\n",
      "to date with pointers to info on your site and elsewhere. If you use\n",
      "the CERN home page note there is a link at the bottom to the master\n",
      "copy on our server. See <A NAME=6 HREF=WWW/NeXT/Installation.html>Installation instructions</A>.\n",
      "<H2>Line Mode browser</H2>Binaries of this for some systems are available in /pub/www/bin/ .<P>\n",
      ". If the binary exists for your system, take that and also the  /pub/www/WWWLineModeDefaults.tar.Z.\n",
      "Unwrap the documentation, and put (link) its directory into /usr/local/lib/WWW\n",
      "on your machine. Put the www executable into your path somewhere,\n",
      "and away you go.<P>\n",
      "If no binary exists, procede as follows. Take the source tar file\n",
      "WWWLineMode_v.vv.tar.Z , uncompress and untar it. You will then find\n",
      "the line Mode browser in WWW/LineMode/Implementation/... (See <A NAME=1 HREF=WWW/LineMode/Defaults/Installation.html>Installation\n",
      "notes</A> ).  Do the same thing (in the same directory) to the WWWLibrary_v.cc.tar.Z\n",
      "file to get the common library.<P>\n",
      "You will have an ASCII printable manual in the file WWW/LineMode/Defaults/line-mode-guide.txt\n",
      "which you can print out at this stage. This is a frozen copy of some\n",
      "of the online documentation.<P>\n",
      "Subdirectories to WWW/LineMode contain Makefiles for systems to which\n",
      "we have already ported.  If your system is not among them, make a\n",
      "new subdirectory with the system name, and copy the Makefile from\n",
      "an existing one. Change the directory names as needed. PLEASE INFORM\n",
      "US OF THE CHANGES WHEN YOU HAVE DONE THE PORT. This is a condition\n",
      "of your use of this code, and will save others repeating your work,\n",
      "and save you repeating it in future releases.<P>\n",
      "Whe you install the browsers, you should configure the default page.\n",
      "This is /usr/local/lib/WWW/default.html for the line mode browser.\n",
      "This must point to some useful information!  You should keep it up\n",
      "to date with pointers to info on your site and elsewhere. If you use\n",
      "the CERN home page note there is a link at the bottom to the master\n",
      "copy on our server.<P>\n",
      "Some basic documentation on the browser is delivered with the home\n",
      "page in the directory WWW/LineMode/Defaults. A separate tar file of\n",
      "that directory (WWWLineModeDefaults.tar.Z) is available if you just\n",
      "want to update that.<P>\n",
      "The rest of the documentation is in hypertext, and so wil be readable\n",
      "most easily with a browser. We suggest that after installing the browser,\n",
      "you browse through the basic documentation so that you are aware of\n",
      "the options and customisation possibilities for example.\n",
      "<H2>Viola browser for X11</H2>Viola is an X11 application for reading global hypertext.  If a binary\n",
      "is  available from your machine, in /pub/www/bin/.../viola*, then\n",
      "take that and also the Viola \"apps\" tar file which contains the scripts\n",
      "you will need.<P>\n",
      "To generate this from source, you will need both the W3 library and\n",
      "the Viola source files.  There is an Imakefile with the viola source\n",
      "directory. You will need to generate the XPA and XPM libraries and\n",
      "the W3 library befere you make viola itself.\n",
      "<H2>Documentation</H2>In the /pub/www/doc directory are a number articles, preprints and\n",
      "guides on the web. <P>\n",
      "See the online <A NAME=3 HREF=WWW/Bibliography.html>WWW bibliography</A> for a list of these and other articles,\n",
      "books, etc.<P>\n",
      "The archive /pub/www/doc/WWWBook.tar.Z  is an extract of the text\n",
      "from the WorldWideWeb (WWW) project documentation.<P>\n",
      "This is a snapshot of a changing hypertext system. The text is provided\n",
      "as example hypertext only, not for general distribution. The accuracy\n",
      "of any information is not guaranteed, and no responsibility will be\n",
      "accepted by the authors for any loss or damage due to inaccuracy or\n",
      "omission.  A copy of the documentation is inevitably out of date,\n",
      "and may be inconsistent. There are links to information which is not\n",
      "provided in that tar file.  If any of these facts cause a problem,\n",
      "you should access the original master data over the network using\n",
      "www, or mail us.\n",
      "<H2>Servers</H2>The Daemon tar file contains (in this release) the code for the basic\n",
      "HTTP daemon for serving files, and also for the WWW-WAIS gateway.\n",
      "To compile the WAIS gateway, you will need [a link to] a WAIS distribution\n",
      "at the same level as the WWW directory.\n",
      "<H2>General</H2>Your comments will of course be most appreciated, on code, or information\n",
      "on the web which is out of date or misleading. If you write your own\n",
      "hypertext and make it available by anonymous ftp or using a server,\n",
      "tell us and we'll put some pointers to it in ours. Thus spreads the\n",
      "web...\n",
      "<ADDRESS>Tim Berners-Lee<P>WorldWideWeb project<P>CERN, 1211 Geneva 23, Switzerland<P>Tel: +41 22 767 3755; Fax: +41 22 767 7155; email: timbl@info.cern.ch\n",
      "</ADDRESS>\n",
      "👋\tनमस्ते दुनिया!\t你好世界！こんにちは世界！\tПривет мир!\n"
     ]
    }
   ],
   "source": [
    "from docarray import Document  # 导包\n",
    "# 创建简单的文本数据\n",
    "d = Document(text='hello, world.')\n",
    "print(d.text)  # 通过text获取文本数据\n",
    "# 如果文本数据很大，或者自URI，可以先定义URI，然后将文本加载到文档中\n",
    "d = Document(uri='https://www.w3.org/History/19921103-hypertext/hypertext/README.html')\n",
    "d.load_uri_to_text()\n",
    "print(d.text)\n",
    "# 支持多语言\n",
    "d = Document(text='👋\tनमस्ते दुनिया!\t你好世界！こんにちは世界！\tПривет мир!')\n",
    "print(d.text)"
   ]
  },
  {
   "cell_type": "markdown",
   "metadata": {
    "pycharm": {
     "name": "#%% md\n"
    }
   },
   "source": [
    "##### 3.4.1.2 切割文本"
   ]
  },
  {
   "cell_type": "code",
   "execution_count": 3,
   "metadata": {
    "pycharm": {
     "name": "#%%\n"
    }
   },
   "outputs": [
    {
     "data": {
      "text/html": [
       "<pre style=\"white-space:pre;overflow-x:auto;line-height:normal;font-family:Menlo,'DejaVu Sans Mono',consolas,'Courier New',monospace\">📄 <span style=\"font-weight: bold\">Document</span>: <span style=\"color: #008080; text-decoration-color: #008080\">31ad5cf2e209e2565861aab141245c4a</span>\n",
       "╭──────────────┬───────────────────────────────────────────────────────────────╮\n",
       "│<span style=\"font-weight: bold\"> Attribute    </span>│<span style=\"font-weight: bold\"> Value                                                         </span>│\n",
       "├──────────────┼───────────────────────────────────────────────────────────────┤\n",
       "│ text         │ 👋       नमस्ते दुनिया!  你好世界！こんにちは世界！   Привет     │\n",
       "│              │ мир!                                                          │\n",
       "╰──────────────┴───────────────────────────────────────────────────────────────╯\n",
       "└── 💠 <span style=\"font-weight: bold\">Chunks</span>\n",
       "    ├── 📄 <span style=\"font-weight: bold\">Document</span>: <span style=\"color: #008080; text-decoration-color: #008080\">6477f12c8d9f8e56f5a46ad768ce8c87</span>\n",
       "    │   ╭──────────────────────────────────┬───────────────────────────────────────────╮\n",
       "    │   │<span style=\"font-weight: bold\"> Attribute                        </span>│<span style=\"font-weight: bold\"> Value                                     </span>│\n",
       "    │   ├──────────────────────────────────┼───────────────────────────────────────────┤\n",
       "    │   │ text                             │ 👋       नमस्ते दुनिया                       │\n",
       "    │   ╰──────────────────────────────────┴───────────────────────────────────────────╯\n",
       "    ├── 📄 <span style=\"font-weight: bold\">Document</span>: <span style=\"color: #008080; text-decoration-color: #008080\">4cf164ae6f67bf9692fefaa7010aea21</span>\n",
       "    │   ╭──────────────────┬───────────────────────────────────────────────────────────╮\n",
       "    │   │<span style=\"font-weight: bold\"> Attribute        </span>│<span style=\"font-weight: bold\"> Value                                                     </span>│\n",
       "    │   ├──────────────────┼───────────────────────────────────────────────────────────┤\n",
       "    │   │ text             │         你好世界！こんにちは世界！   Привет мир           │\n",
       "    │   ╰──────────────────┴───────────────────────────────────────────────────────────╯\n",
       "    └── 📄 <span style=\"font-weight: bold\">Document</span>: <span style=\"color: #008080; text-decoration-color: #008080\">b9aeec6b5abbf948798b98ce97a2f40f</span>\n",
       "</pre>\n"
      ],
      "text/plain": [
       "📄 \u001b[1mDocument\u001b[0m: \u001b[36m31ad5cf2e209e2565861aab141245c4a\u001b[0m\n",
       "╭──────────────┬───────────────────────────────────────────────────────────────╮\n",
       "│\u001b[1m \u001b[0m\u001b[1mAttribute   \u001b[0m\u001b[1m \u001b[0m│\u001b[1m \u001b[0m\u001b[1mValue                                                        \u001b[0m\u001b[1m \u001b[0m│\n",
       "├──────────────┼───────────────────────────────────────────────────────────────┤\n",
       "│ text         │ 👋       नमस्ते दुनिया!  你好世界！こんにちは世界！   Привет     │\n",
       "│              │ мир!                                                          │\n",
       "╰──────────────┴───────────────────────────────────────────────────────────────╯\n",
       "└── 💠 \u001b[1mChunks\u001b[0m\n",
       "    ├── 📄 \u001b[1mDocument\u001b[0m: \u001b[36m6477f12c8d9f8e56f5a46ad768ce8c87\u001b[0m\n",
       "    │   ╭──────────────────────────────────┬───────────────────────────────────────────╮\n",
       "    │   │\u001b[1m \u001b[0m\u001b[1mAttribute                       \u001b[0m\u001b[1m \u001b[0m│\u001b[1m \u001b[0m\u001b[1mValue                                    \u001b[0m\u001b[1m \u001b[0m│\n",
       "    │   ├──────────────────────────────────┼───────────────────────────────────────────┤\n",
       "    │   │ text                             │ 👋       नमस्ते दुनिया                       │\n",
       "    │   ╰──────────────────────────────────┴───────────────────────────────────────────╯\n",
       "    ├── 📄 \u001b[1mDocument\u001b[0m: \u001b[36m4cf164ae6f67bf9692fefaa7010aea21\u001b[0m\n",
       "    │   ╭──────────────────┬───────────────────────────────────────────────────────────╮\n",
       "    │   │\u001b[1m \u001b[0m\u001b[1mAttribute       \u001b[0m\u001b[1m \u001b[0m│\u001b[1m \u001b[0m\u001b[1mValue                                                    \u001b[0m\u001b[1m \u001b[0m│\n",
       "    │   ├──────────────────┼───────────────────────────────────────────────────────────┤\n",
       "    │   │ text             │         你好世界！こんにちは世界！   Привет мир           │\n",
       "    │   ╰──────────────────┴───────────────────────────────────────────────────────────╯\n",
       "    └── 📄 \u001b[1mDocument\u001b[0m: \u001b[36mb9aeec6b5abbf948798b98ce97a2f40f\u001b[0m\n"
      ]
     },
     "metadata": {},
     "output_type": "display_data"
    }
   ],
   "source": [
    "from docarray import Document  # 导包\n",
    "\n",
    "d = Document(text='👋\tनमस्ते दुनिया!\t你好世界！こんにちは世界！\tПривет мир!')\n",
    "d.chunks.extend([Document(text=c) for c in d.text.split('!')])  # 按'!'分割\n",
    "d.summary()"
   ]
  },
  {
   "cell_type": "markdown",
   "metadata": {
    "pycharm": {
     "name": "#%% md\n"
    }
   },
   "source": [
    "##### 3.4.1.3 text、ndarray互转"
   ]
  },
  {
   "cell_type": "code",
   "execution_count": 4,
   "metadata": {
    "pycharm": {
     "name": "#%%\n"
    }
   },
   "outputs": [
    {
     "name": "stdout",
     "output_type": "stream",
     "text": [
      "[0 0 0 0 0 0 0 0 2 3]\n",
      "[0 0 0 0 0 0 0 0 4 3]\n",
      "[0 0 0 0 0 0 0 0 2 4]\n",
      "hello world\n",
      "goodbye world\n",
      "hello goodbye\n"
     ]
    }
   ],
   "source": [
    "from docarray import DocumentArray, Document  # 导包\n",
    "\n",
    "# DocumentArray相当于一个list，用于存放Document\n",
    "da = DocumentArray([Document(text='hello world'), \n",
    "                    Document(text='goodbye world'),\n",
    "                    Document(text='hello goodbye')])\n",
    "\n",
    "vocab = da.get_vocabulary()  # 输出：{'hello': 2, 'world': 3, 'goodbye': 4}\n",
    "\n",
    "# 转为ndarray\n",
    "for d in da:\n",
    "    d.convert_text_to_tensor(vocab, max_length=10)  # 转为tensor向量，max_length为向量最大值，可不设置\n",
    "    print(d.tensor) \n",
    "# ndarray\n",
    "for d in da:\n",
    "    d.convert_tensor_to_text(vocab)\n",
    "    print(d.text)"
   ]
  },
  {
   "cell_type": "markdown",
   "metadata": {
    "pycharm": {
     "name": "#%% md\n"
    }
   },
   "source": [
    "##### 3.4.1.4 Demo: 简单文本匹配"
   ]
  },
  {
   "cell_type": "code",
   "execution_count": null,
   "metadata": {
    "pycharm": {
     "name": "#%%\n"
    }
   },
   "outputs": [],
   "source": [
    "from docarray import Document, DocumentArray\n",
    "\n",
    "d = Document(uri='https://www.gutenberg.org/files/1342/1342-0.txt').load_uri_to_text()\n",
    "da = DocumentArray(Document(text=s.strip()) for s in d.text.split('\\n') if s.strip())\n",
    "da.apply(lambda d: d.embed_feature_hashing())\n",
    "\n",
    "q = (\n",
    "    Document(text='she entered the room')\n",
    "    .embed_feature_hashing()  # 通过hash进行特征编码\n",
    "    .match(da, limit=5, exclude_self=True, metric='jaccard', use_scipy=True)\n",
    ")\n",
    "\n",
    "print(q.matches[:, ('text', 'scores__jaccard')])"
   ]
  },
  {
   "cell_type": "markdown",
   "metadata": {
    "pycharm": {
     "name": "#%% md\n"
    }
   },
   "source": [
    "#### 3.4.2 图像\n",
    "​\t\t图像部分需要提前安装Pillow和matplotlib包。首先以下图为例，进行图像部分的介绍：\n",
    "\n",
    "![apple](pic/apple.png)\n",
    "\n",
    "##### 3.4.2.1 读取图片并转为tensor"
   ]
  },
  {
   "cell_type": "markdown",
   "metadata": {
    "pycharm": {
     "name": "#%% md\n"
    }
   },
   "source": [
    "##### 3.4.2.2 进行简单的图像处理"
   ]
  },
  {
   "cell_type": "code",
   "execution_count": 8,
   "metadata": {
    "pycharm": {
     "name": "#%%\n"
    }
   },
   "outputs": [
    {
     "name": "stdout",
     "output_type": "stream",
     "text": [
      "[[[2.2489083 2.2489083 2.2489083 ... 2.2489083 2.2489083 2.2489083]\n",
      "  [2.2489083 2.2489083 2.2489083 ... 2.2489083 2.2489083 2.2489083]\n",
      "  [2.2489083 2.2489083 2.2489083 ... 2.2489083 2.2489083 2.2489083]\n",
      "  ...\n",
      "  [2.2489083 2.2489083 2.2489083 ... 2.2489083 2.2489083 2.2489083]\n",
      "  [2.2489083 2.2489083 2.2489083 ... 2.2489083 2.2489083 2.2489083]\n",
      "  [2.2489083 2.2489083 2.2489083 ... 2.2489083 2.2489083 2.2489083]]\n",
      "\n",
      " [[2.4285715 2.4285715 2.4285715 ... 2.4285715 2.4285715 2.4285715]\n",
      "  [2.4285715 2.4285715 2.4285715 ... 2.4285715 2.4285715 2.4285715]\n",
      "  [2.4285715 2.4285715 2.4285715 ... 2.4285715 2.4285715 2.4285715]\n",
      "  ...\n",
      "  [2.4285715 2.4285715 2.4285715 ... 2.4285715 2.4285715 2.4285715]\n",
      "  [2.4285715 2.4285715 2.4285715 ... 2.4285715 2.4285715 2.4285715]\n",
      "  [2.4285715 2.4285715 2.4285715 ... 2.4285715 2.4285715 2.4285715]]\n",
      "\n",
      " [[2.64      2.64      2.64      ... 2.64      2.64      2.64     ]\n",
      "  [2.64      2.64      2.64      ... 2.64      2.64      2.64     ]\n",
      "  [2.64      2.64      2.64      ... 2.64      2.64      2.64     ]\n",
      "  ...\n",
      "  [2.64      2.64      2.64      ... 2.64      2.64      2.64     ]\n",
      "  [2.64      2.64      2.64      ... 2.64      2.64      2.64     ]\n",
      "  [2.64      2.64      2.64      ... 2.64      2.64      2.64     ]]] (3, 224, 224)\n"
     ]
    },
    {
     "data": {
      "text/html": [
       "<pre style=\"white-space:pre;overflow-x:auto;line-height:normal;font-family:Menlo,'DejaVu Sans Mono',consolas,'Courier New',monospace\">📄 <span style=\"font-weight: bold\">Document</span>: <span style=\"color: #008080; text-decoration-color: #008080\">9a422f32390ea3f1dce605e0b411470c</span>\n",
       "╭────────────┬─────────────────────────────────────────────────────────────────╮\n",
       "│<span style=\"font-weight: bold\"> Attribute  </span>│<span style=\"font-weight: bold\"> Value                                                           </span>│\n",
       "├────────────┼─────────────────────────────────────────────────────────────────┤\n",
       "│ tensor     │ <span style=\"font-weight: bold\">&lt;</span><span style=\"color: #ff00ff; text-decoration-color: #ff00ff; font-weight: bold\">class</span><span style=\"color: #000000; text-decoration-color: #000000\"> </span><span style=\"color: #008000; text-decoration-color: #008000\">'numpy.ndarray'</span><span style=\"font-weight: bold\">&gt;</span> in shape <span style=\"font-weight: bold\">(</span><span style=\"color: #008080; text-decoration-color: #008080; font-weight: bold\">3</span>, <span style=\"color: #008080; text-decoration-color: #008080; font-weight: bold\">224</span>, <span style=\"color: #008080; text-decoration-color: #008080; font-weight: bold\">224</span><span style=\"font-weight: bold\">)</span>, dtype: float32  │\n",
       "│ mime_type  │ image/png                                                       │\n",
       "│ uri        │ .<span style=\"color: #800080; text-decoration-color: #800080\">/pic/</span><span style=\"color: #ff00ff; text-decoration-color: #ff00ff\">apple.png</span>                                                 │\n",
       "╰────────────┴─────────────────────────────────────────────────────────────────╯\n",
       "</pre>\n"
      ],
      "text/plain": [
       "📄 \u001b[1mDocument\u001b[0m: \u001b[36m9a422f32390ea3f1dce605e0b411470c\u001b[0m\n",
       "╭────────────┬─────────────────────────────────────────────────────────────────╮\n",
       "│\u001b[1m \u001b[0m\u001b[1mAttribute \u001b[0m\u001b[1m \u001b[0m│\u001b[1m \u001b[0m\u001b[1mValue                                                          \u001b[0m\u001b[1m \u001b[0m│\n",
       "├────────────┼─────────────────────────────────────────────────────────────────┤\n",
       "│ tensor     │ \u001b[1m<\u001b[0m\u001b[1;95mclass\u001b[0m\u001b[39m \u001b[0m\u001b[32m'numpy.ndarray'\u001b[0m\u001b[1m>\u001b[0m in shape \u001b[1m(\u001b[0m\u001b[1;36m3\u001b[0m, \u001b[1;36m224\u001b[0m, \u001b[1;36m224\u001b[0m\u001b[1m)\u001b[0m, dtype: float32  │\n",
       "│ mime_type  │ image/png                                                       │\n",
       "│ uri        │ .\u001b[35m/pic/\u001b[0m\u001b[95mapple.png\u001b[0m                                                 │\n",
       "╰────────────┴─────────────────────────────────────────────────────────────────╯\n"
      ]
     },
     "metadata": {},
     "output_type": "display_data"
    }
   ],
   "source": [
    "from docarray import Document\n",
    "\n",
    "d = (\n",
    "    Document(uri='./pic/apple.png')\n",
    "    .load_uri_to_image_tensor()\n",
    "    .set_image_tensor_shape(shape=(224, 224))  # 设置shape\n",
    "    .set_image_tensor_normalization()  # 标准化\n",
    "    .set_image_tensor_channel_axis(-1, 0)  # 更改通道\n",
    ")\n",
    "\n",
    "print(d.tensor, d.tensor.shape)\n",
    "\n",
    "# 你可以使用save_image_tensor_to_file将tensor转为图像。当然，因为做了预处理，图片返回时损失了很多信息。\n",
    "d.save_image_tensor_to_file('apple-proc.png', channel_axis=0)  # 因为前面进行了预处理，channel_axis应该设为0"
   ]
  },
  {
   "cell_type": "markdown",
   "metadata": {
    "pycharm": {
     "name": "#%% md\n"
    }
   },
   "source": [
    "##### 3.4.2.3 读取图像集"
   ]
  },
  {
   "cell_type": "code",
   "execution_count": 7,
   "metadata": {},
   "outputs": [],
   "source": [
    "from docarray import DocumentArray\n",
    "\n",
    "da = DocumentArray.from_files('Downloads/*.jpg')  # 从Downloads文件夹中读取所有的jpg文件，你应该根据自己的路径设置\n",
    "da.plot_image_sprites('sprite-img.png')  # 使用plot_image_sprites绘制图片集图片，如下图"
   ]
  },
  {
   "cell_type": "markdown",
   "metadata": {
    "pycharm": {
     "name": "#%% md\n"
    }
   },
   "source": [
    "![sprite-img](pic/sprite-img.png)"
   ]
  },
  {
   "cell_type": "markdown",
   "metadata": {
    "pycharm": {
     "name": "#%% md\n"
    }
   },
   "source": [
    "##### 3.4.2.4 切割大型图像\n",
    "\n",
    "由于大型复杂图像包含了太多的元素和信息，难以定义搜索问题，因此很难对其进行搜索。\n",
    "\n",
    "以下图为例，如果要对图像进行分析，首先就需要切割图像。这里使用滑动窗口来切割图像。\n",
    "![complicated-image](pic/complicated-image.jpeg)"
   ]
  },
  {
   "cell_type": "code",
   "execution_count": null,
   "metadata": {
    "pycharm": {
     "name": "#%%\n"
    }
   },
   "outputs": [],
   "source": [
    "from docarray import Document\n",
    "\n",
    "d = Document(uri='./pic/complicated-image.jpeg')\n",
    "d.load_uri_to_image_tensor()\n",
    "print(d.tensor.shape)\n",
    "\n",
    "#d.convert_image_tensor_to_sliding_windows(window_shape=(64, 64))  # 使用64*64的滑窗切割原图像，切分出12*15个图像张量\n",
    "#print(d.tensor.shape)\n",
    "\n",
    "# 可以通过as_chunks=True，使得上述180张图片张量添加到Document块中。P.S：运行这行代码时，需要重新load image tensor，否则会报错。\n",
    "#d.convert_image_tensor_to_sliding_windows(window_shape=(64, 64), as_chunks=True)\n",
    "#print(d.chunks)\n",
    "\n",
    "d.chunks.plot_image_sprites('simpsons-chunks.png')  # 使用plot_image_sprites将各个chunk绘制成图片集图片"
   ]
  },
  {
   "cell_type": "markdown",
   "metadata": {
    "pycharm": {
     "name": "#%% md\n"
    }
   },
   "source": [
    "![simpsons-chunks](pic/simpsons-chunks.png)"
   ]
  },
  {
   "cell_type": "markdown",
   "metadata": {
    "pycharm": {
     "name": "#%% md\n"
    }
   },
   "source": [
    "因为采用了滑动窗口扫描整个图像，使用了默认的stride，切分后的图像不会有重叠，所以重新绘制出的图和原图差别不大。你也可以通过设置strides参数进行过采样。"
   ]
  },
  {
   "cell_type": "code",
   "execution_count": null,
   "metadata": {
    "pycharm": {
     "name": "#%%\n"
    }
   },
   "outputs": [],
   "source": [
    "d.convert_image_tensor_to_sliding_windows(window_shape=(64, 64), strides=(10, 10), as_chunks=True)\n",
    "d.chunks.plot_image_sprites('simpsons-chunks-stride-10.png')"
   ]
  },
  {
   "cell_type": "markdown",
   "metadata": {
    "pycharm": {
     "name": "#%% md\n"
    }
   },
   "source": [
    "#### 3.4.3 视频\n",
    "\n",
    "#### 3.4.3.1 视频导入和切分\n",
    "\n",
    "视频需要依赖av包。首先，使用`load_uri_to_video_tensor`导入视频。"
   ]
  },
  {
   "cell_type": "code",
   "execution_count": null,
   "metadata": {
    "pycharm": {
     "name": "#%%\n"
    }
   },
   "outputs": [],
   "source": [
    "from docarray import Document\n",
    "\n",
    "d = Document(uri='three_robots.mp4')\n",
    "d.load_uri_to_video_tensor()\n",
    "\n",
    "print(d.tensor.shape)"
   ]
  },
  {
   "cell_type": "markdown",
   "metadata": {
    "pycharm": {
     "name": "#%% md\n"
    }
   },
   "source": [
    "相较于图像，视频是一个思维数组，第一维表示视频帧id或是视频的时间，剩下的三维则和图像一致。\n",
    "\n",
    "举个例子，假设d.tensor.shape=（250，176，320，3），视频总长度10s。说明视频大小为176x320，包含250帧。从而推断出，帧速率约为250/10=25fps。\n",
    "\n",
    "可以使用append将Document放入chunk中："
   ]
  },
  {
   "cell_type": "code",
   "execution_count": null,
   "metadata": {
    "pycharm": {
     "name": "#%%\n"
    }
   },
   "outputs": [],
   "source": [
    "for b in d.tensor:\n",
    "    d.chunks.append(Document(tensor=b))\n",
    "\n",
    "d.chunks.plot_image_sprites('mov.png')"
   ]
  },
  {
   "cell_type": "markdown",
   "metadata": {
    "pycharm": {
     "name": "#%% md\n"
    }
   },
   "source": [
    "#### 3.4.3.2 关键帧提取\n",
    "我们从视频中提取的图像，很多都是冗余的，可以使用`only_keyframes`这个参数来提取关键帧：\n"
   ]
  },
  {
   "cell_type": "code",
   "execution_count": null,
   "metadata": {
    "pycharm": {
     "name": "#%%\n"
    }
   },
   "outputs": [],
   "source": [
    "from docarray import Document\n",
    "\n",
    "d = Document(uri='toy.mp4')\n",
    "d.load_uri_to_video_tensor(only_keyframes=True)\n",
    "print(d.tensor.shape)"
   ]
  },
  {
   "cell_type": "markdown",
   "metadata": {
    "pycharm": {
     "name": "#%% md\n"
    }
   },
   "source": [
    "#### 3.4.3.3 张量转存为视频"
   ]
  },
  {
   "cell_type": "code",
   "execution_count": null,
   "metadata": {
    "pycharm": {
     "name": "#%%\n"
    }
   },
   "outputs": [],
   "source": [
    "from docarray import Document\n",
    "\n",
    "d = (\n",
    "    Document(uri='toy.mp4')\n",
    "    .load_uri_to_video_tensor()  # 读取视频\n",
    "    .save_video_tensor_to_file('60fps.mp4', 60)  # 将其保存为60fps的视频\n",
    ")"
   ]
  },
  {
   "cell_type": "markdown",
   "metadata": {
    "pycharm": {
     "name": "#%% md\n"
    }
   },
   "source": [
    "## 4. 附录\n",
    "\n",
    "<!--官方文档地址-->\n",
    "\n",
    "1.Jina:https://docs.jina.ai/\n",
    "\n",
    "2.DocArray https://docarray.jina.ai/"
   ]
  }
 ],
 "metadata": {
  "kernelspec": {
   "display_name": "Python 3 (ipykernel)",
   "language": "python",
   "name": "python3"
  },
  "language_info": {
   "codemirror_mode": {
    "name": "ipython",
    "version": 3
   },
   "file_extension": ".py",
   "mimetype": "text/x-python",
   "name": "python",
   "nbconvert_exporter": "python",
   "pygments_lexer": "ipython3",
   "version": "3.9.13"
  }
 },
 "nbformat": 4,
 "nbformat_minor": 1
}
